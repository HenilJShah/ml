{
 "cells": [
  {
   "cell_type": "code",
   "execution_count": null,
   "metadata": {},
   "outputs": [],
   "source": [
    "import pandas as pd"
   ]
  },
  {
   "cell_type": "code",
   "execution_count": null,
   "metadata": {},
   "outputs": [],
   "source": [
    "import numpy as np"
   ]
  },
  {
   "cell_type": "code",
   "execution_count": null,
   "metadata": {},
   "outputs": [],
   "source": [
    "def highlight(s):    \n",
    "    return ['background-color: red' if v==\"No\" else 'background-color: green' for v in s]"
   ]
  },
  {
   "cell_type": "code",
   "execution_count": null,
   "metadata": {},
   "outputs": [],
   "source": [
    "data = pd.read_csv(\"PlayTennis.csv\", index_col='Day')\n",
    "data.style.apply(highlight, subset=['PlayTennis'])"
   ]
  },
  {
   "cell_type": "code",
   "execution_count": null,
   "metadata": {},
   "outputs": [],
   "source": [
    "target_count = data['PlayTennis'].value_counts(normalize=True)\n",
    "target_count"
   ]
  },
  {
   "cell_type": "code",
   "execution_count": null,
   "metadata": {},
   "outputs": [],
   "source": [
    "for ix, v in enumerate(target_count):\n",
    "    print(f\"Probability(Play={target_count.index[ix]}) = {v:.4f}\")"
   ]
  },
  {
   "cell_type": "code",
   "execution_count": null,
   "metadata": {},
   "outputs": [],
   "source": [
    "prob_yes, prob_no = target_count['Yes'], target_count['No']"
   ]
  },
  {
   "cell_type": "code",
   "execution_count": null,
   "metadata": {},
   "outputs": [],
   "source": [
    "node_entropy = prob_yes*np.log2(prob_yes)\n",
    "node_entropy"
   ]
  },
  {
   "cell_type": "code",
   "execution_count": null,
   "metadata": {},
   "outputs": [],
   "source": [
    "node_entropy += prob_no*np.log2(prob_no)\n",
    "node_entropy = node_entropy*(-1)\n",
    "node_entropy"
   ]
  },
  {
   "cell_type": "code",
   "execution_count": null,
   "metadata": {},
   "outputs": [],
   "source": [
    "data.loc[data['Humidity']=='High']"
   ]
  },
  {
   "cell_type": "code",
   "execution_count": null,
   "metadata": {},
   "outputs": [],
   "source": [
    "data.loc[data['Humidity']=='Normal']"
   ]
  },
  {
   "cell_type": "code",
   "execution_count": null,
   "metadata": {},
   "outputs": [],
   "source": [
    "df_a1 = data.loc[data['Humidity']=='High']"
   ]
  },
  {
   "cell_type": "code",
   "execution_count": null,
   "metadata": {},
   "outputs": [],
   "source": [
    "data.columns[:-1]"
   ]
  },
  {
   "cell_type": "code",
   "execution_count": null,
   "metadata": {},
   "outputs": [],
   "source": [
    "for col in data.columns[:-1]:\n",
    "    print(f\"{col}: {data[col].unique()}\")"
   ]
  },
  {
   "cell_type": "code",
   "execution_count": null,
   "metadata": {},
   "outputs": [],
   "source": [
    "for col in data.columns[:-1]:    \n",
    "    level = data[col].unique()\n",
    "    for l in level:\n",
    "        print(f\"for feature: {col} --> {l}\")\n",
    "        tempDf = data.loc[data[col]==l] \n",
    "        print(tempDf)    "
   ]
  },
  {
   "cell_type": "code",
   "execution_count": null,
   "metadata": {},
   "outputs": [],
   "source": [
    "def cal_entropy(df):\n",
    "    target = df.columns[-1]\n",
    "    entropy = 0\n",
    "    target_level = df[target].unique()\n",
    "    for val in target_level:\n",
    "        level_probability = df[target].value_counts(normalize=True)[val]\n",
    "        entropy = entropy - level_probability*np.log2(level_probability)\n",
    "    return entropy"
   ]
  },
  {
   "cell_type": "code",
   "execution_count": null,
   "metadata": {},
   "outputs": [],
   "source": [
    "cal_entropy(tempDf)"
   ]
  },
  {
   "cell_type": "code",
   "execution_count": null,
   "metadata": {},
   "outputs": [],
   "source": [
    "for ix, col in enumerate(data.columns[:-1],1):    \n",
    "    level = data[col].unique()\n",
    "    print('*'*30)\n",
    "    for l in level:\n",
    "        print(f\"for Feature {ix}: {col} --> {l}\")\n",
    "        tempDf = data.loc[data[col]==l] \n",
    "        E = cal_entropy(tempDf)\n",
    "        print(f\"Entropy E = {E:.4f}\")  "
   ]
  },
  {
   "cell_type": "code",
   "execution_count": null,
   "metadata": {},
   "outputs": [],
   "source": [
    "instances = data.shape[0]\n",
    "instances"
   ]
  },
  {
   "cell_type": "code",
   "execution_count": null,
   "metadata": {},
   "outputs": [],
   "source": [
    "for ix, col in enumerate(data.columns[:-1],1):    \n",
    "    level = data[col].unique()\n",
    "    print('*'*30)\n",
    "    entropy_attribute = 0\n",
    "    for l in level:\n",
    "#         print(f\"for Feature {ix}: {col} --> {l}\")\n",
    "        tempDf = data.loc[data[col]==l] \n",
    "        weight = tempDf.shape[0]/instances\n",
    "        E = cal_entropy(tempDf)\n",
    "        entropy_attribute += E*weight\n",
    "    print(f\"For Feature {ix}: {col}, Entropy = {entropy_attribute:.4f}\") "
   ]
  },
  {
   "cell_type": "code",
   "execution_count": null,
   "metadata": {},
   "outputs": [],
   "source": [
    "for ix, col in enumerate(data.columns[:-1],1):    \n",
    "    level = data[col].unique()\n",
    "    print('*'*30)\n",
    "    entropy_attribute = 0\n",
    "    for l in level:\n",
    "#         print(f\"for Feature {ix}: {col} --> {l}\")\n",
    "        tempDf = data.loc[data[col]==l] \n",
    "        weight = tempDf.shape[0]/instances\n",
    "        E = cal_entropy(tempDf)\n",
    "        entropy_attribute += E*weight\n",
    "    print(f\"For Feature {ix}: {col}, IG = {node_entropy-entropy_attribute:.4f}\") "
   ]
  },
  {
   "cell_type": "code",
   "execution_count": null,
   "metadata": {},
   "outputs": [],
   "source": [
    "# construct a crosstabulation\n",
    "play_outlook = pd.crosstab(data['Outlook'], data['PlayTennis'], margins=True)\n",
    "play_outlook\n",
    "# data.groupby('Outlook')['PlayTennis'].value_counts()"
   ]
  },
  {
   "cell_type": "code",
   "execution_count": null,
   "metadata": {},
   "outputs": [],
   "source": [
    "# Getting values of last row\n",
    "play_outlook.loc['All']\n",
    "# play_outlook.iloc[-1]"
   ]
  },
  {
   "cell_type": "code",
   "execution_count": null,
   "metadata": {},
   "outputs": [],
   "source": [
    "for col in data.drop(['PlayTennis'], axis=1).columns:\n",
    "    cross_tab = pd.crosstab(data[col], data['PlayTennis'], margins=True)\n",
    "    print(\"*****************************************\")\n",
    "    print(f\"Cross table for {col!r}\")\n",
    "    print(f\"{cross_tab!r}\")\n",
    "    print(\"*****************************************\")"
   ]
  },
  {
   "cell_type": "code",
   "execution_count": null,
   "metadata": {},
   "outputs": [],
   "source": [
    "# import seaborn as sns"
   ]
  },
  {
   "cell_type": "code",
   "execution_count": null,
   "metadata": {},
   "outputs": [],
   "source": [
    "# ctd = {}\n",
    "# for col in data.drop(['PlayTennis'], axis=1).columns:\n",
    "# #     print(\"*****************************************\")\n",
    "# #     print(f\"Cross table for {col!r} in percentage (probability)\")\n",
    "#     cross_tab = pd.crosstab(data[col], data['PlayTennis'], normalize='columns')\n",
    "#     ctd[col] = cross_tab.style.background_gradient(cmap='viridis')    "
   ]
  },
  {
   "cell_type": "code",
   "execution_count": null,
   "metadata": {},
   "outputs": [],
   "source": [
    "# ctd"
   ]
  },
  {
   "cell_type": "code",
   "execution_count": null,
   "metadata": {},
   "outputs": [],
   "source": [
    "for row in cross_tab.index:\n",
    "    print(row)\n",
    "    print(cross_tab.loc[row])"
   ]
  },
  {
   "cell_type": "code",
   "execution_count": null,
   "metadata": {},
   "outputs": [],
   "source": [
    "features = data.columns[-1]\n",
    "features"
   ]
  },
  {
   "cell_type": "code",
   "execution_count": null,
   "metadata": {},
   "outputs": [],
   "source": [
    "features_level = data[features].unique()\n",
    "features_level"
   ]
  },
  {
   "cell_type": "code",
   "execution_count": null,
   "metadata": {},
   "outputs": [],
   "source": [
    "for val in features_level:\n",
    "    class_probability = data[features].value_counts(normalize=True)[val]"
   ]
  },
  {
   "cell_type": "code",
   "execution_count": null,
   "metadata": {},
   "outputs": [],
   "source": [
    "class_probability"
   ]
  },
  {
   "cell_type": "code",
   "execution_count": null,
   "metadata": {},
   "outputs": [],
   "source": [
    "print(\"Entropy of PlayTennis:\", cal_entropy(data))"
   ]
  },
  {
   "cell_type": "code",
   "execution_count": null,
   "metadata": {},
   "outputs": [],
   "source": [
    "df_humid1 = data.loc[data.Humidity==\"High\"]\n",
    "df_humid1.style.apply(highlight, subset=['PlayTennis'], axis=0)"
   ]
  },
  {
   "cell_type": "code",
   "execution_count": null,
   "metadata": {},
   "outputs": [],
   "source": [
    "print(\"Entropy of Humidity-High:\", cal_entropy(df_humid1))"
   ]
  },
  {
   "cell_type": "code",
   "execution_count": null,
   "metadata": {},
   "outputs": [],
   "source": [
    "from sklearn.preprocessing import LabelEncoder\n",
    "\n",
    "data_encoded = data.apply(LabelEncoder().fit_transform)\n",
    "\n",
    "data_encoded"
   ]
  },
  {
   "cell_type": "code",
   "execution_count": null,
   "metadata": {},
   "outputs": [],
   "source": [
    "import sklearn"
   ]
  },
  {
   "cell_type": "code",
   "execution_count": null,
   "metadata": {},
   "outputs": [],
   "source": [
    "sklearn.__version__"
   ]
  },
  {
   "cell_type": "code",
   "execution_count": null,
   "metadata": {},
   "outputs": [],
   "source": [
    "from sklearn.model_selection import train_test_split"
   ]
  },
  {
   "cell_type": "code",
   "execution_count": null,
   "metadata": {},
   "outputs": [],
   "source": [
    "X = data_encoded[data_encoded.columns[:-1]]\n",
    "y = data_encoded[data_encoded.columns[-1]]"
   ]
  },
  {
   "cell_type": "code",
   "execution_count": null,
   "metadata": {},
   "outputs": [],
   "source": [
    "X"
   ]
  },
  {
   "cell_type": "code",
   "execution_count": null,
   "metadata": {},
   "outputs": [],
   "source": [
    "X_train, X_test, y_train, y_test = train_test_split(X, y, \n",
    "                                                    random_state=42,                                                     \n",
    "                                                     test_size=0.05                                                 \n",
    "                                                   )"
   ]
  },
  {
   "cell_type": "code",
   "execution_count": null,
   "metadata": {},
   "outputs": [],
   "source": [
    "X_train"
   ]
  },
  {
   "cell_type": "code",
   "execution_count": null,
   "metadata": {},
   "outputs": [],
   "source": [
    "from sklearn.tree import DecisionTreeClassifier"
   ]
  },
  {
   "cell_type": "code",
   "execution_count": null,
   "metadata": {},
   "outputs": [],
   "source": [
    "model = DecisionTreeClassifier(random_state=42, criterion='entropy')"
   ]
  },
  {
   "cell_type": "code",
   "execution_count": null,
   "metadata": {},
   "outputs": [],
   "source": [
    "data['Outlook'].map({'Overcast':1 , 'Sunny':2, 'Rain': 3})"
   ]
  },
  {
   "cell_type": "code",
   "execution_count": null,
   "metadata": {},
   "outputs": [],
   "source": [
    "model.fit(X_train,y_train)"
   ]
  },
  {
   "cell_type": "code",
   "execution_count": null,
   "metadata": {},
   "outputs": [],
   "source": [
    "model.predict(X_test)"
   ]
  },
  {
   "cell_type": "code",
   "execution_count": null,
   "metadata": {},
   "outputs": [],
   "source": [
    "model.score(X_test, y_test)"
   ]
  },
  {
   "cell_type": "code",
   "execution_count": null,
   "metadata": {},
   "outputs": [],
   "source": [
    "features_col = data.columns[:-1]"
   ]
  },
  {
   "cell_type": "code",
   "execution_count": null,
   "metadata": {},
   "outputs": [],
   "source": [
    "from sklearn.tree import plot_tree \n",
    "import matplotlib.pyplot as plt\n",
    "%matplotlib inline\n",
    "plt.figure(figsize=(10, 8))\n",
    "plot_tree(model.fit(X_train, y_train),\n",
    "          feature_names=features_col,\n",
    "          class_names=['No', 'Yes'],\n",
    "          filled=True, rounded=True)\n",
    "plt.show()"
   ]
  },
  {
   "cell_type": "code",
   "execution_count": null,
   "metadata": {},
   "outputs": [],
   "source": []
  }
 ],
 "metadata": {
  "kernelspec": {
   "display_name": "Python 3",
   "language": "python",
   "name": "python3"
  },
  "language_info": {
   "codemirror_mode": {
    "name": "ipython",
    "version": 3
   },
   "file_extension": ".py",
   "mimetype": "text/x-python",
   "name": "python",
   "nbconvert_exporter": "python",
   "pygments_lexer": "ipython3",
   "version": "3.7.7"
  }
 },
 "nbformat": 4,
 "nbformat_minor": 4
}
